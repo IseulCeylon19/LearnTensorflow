{
 "cells": [
  {
   "cell_type": "code",
   "execution_count": null,
   "id": "d50fada0",
   "metadata": {},
   "outputs": [
    {
     "name": "stdout",
     "output_type": "stream",
     "text": [
      "Downloading data from https://storage.googleapis.com/download.tensorflow.org/data/iris_training.csv\n",
      "2194/2194 [==============================] - 0s 0s/step\n",
      "Downloading data from https://storage.googleapis.com/download.tensorflow.org/data/iris_test.csv\n",
      "573/573 [==============================] - 0s 0s/step\n"
     ]
    }
   ],
   "source": [
    "from __future__ import absolute_import, division, print_function, unicode_literals\n",
    "import os\n",
    "import tensorflow as tf\n",
    "import pandas as pd\n",
    "\n",
    "CSV_COLUMN_NAMES = ['SepalLength', 'SepalWidth', 'PetalLength', 'PetalWidth', 'Species']\n",
    "SPECIES = ['Setosa', 'Versicolor', 'Virginica']\n",
    "\n",
    "train_path = tf.keras.utils.get_file(\"iris_training.csv\", \"https://storage.googleapis.com/download.tensorflow.org/data/iris_training.csv\")\n",
    "test_path = tf.keras.utils.get_file(\"iris_test.csv\", \"https://storage.googleapis.com/download.tensorflow.org/data/iris_test.csv\")\n",
    "\n",
    "# Cannot make this work\n",
    "# train_path = tf.keras.utils.get_file(\"iris_training.csv\", \"file://\" + \"C:/IseulCeylon19\\dev\\LearnTensorflow/testClassification-iris_training.csv\")\n"
   ]
  },
  {
   "cell_type": "code",
   "execution_count": 15,
   "id": "edcecd6b",
   "metadata": {},
   "outputs": [],
   "source": [
    "train = pd.read_csv(train_path, names=CSV_COLUMN_NAMES, header=0)\n",
    "test = pd.read_csv(test_path, names=CSV_COLUMN_NAMES, header=0)"
   ]
  },
  {
   "cell_type": "code",
   "execution_count": 16,
   "id": "adf147a5",
   "metadata": {},
   "outputs": [
    {
     "data": {
      "text/html": [
       "<div>\n",
       "<style scoped>\n",
       "    .dataframe tbody tr th:only-of-type {\n",
       "        vertical-align: middle;\n",
       "    }\n",
       "\n",
       "    .dataframe tbody tr th {\n",
       "        vertical-align: top;\n",
       "    }\n",
       "\n",
       "    .dataframe thead th {\n",
       "        text-align: right;\n",
       "    }\n",
       "</style>\n",
       "<table border=\"1\" class=\"dataframe\">\n",
       "  <thead>\n",
       "    <tr style=\"text-align: right;\">\n",
       "      <th></th>\n",
       "      <th>SepalLength</th>\n",
       "      <th>SepalWidth</th>\n",
       "      <th>PetalLength</th>\n",
       "      <th>PetalWidth</th>\n",
       "      <th>Species</th>\n",
       "    </tr>\n",
       "  </thead>\n",
       "  <tbody>\n",
       "    <tr>\n",
       "      <th>0</th>\n",
       "      <td>6.4</td>\n",
       "      <td>2.8</td>\n",
       "      <td>5.6</td>\n",
       "      <td>2.2</td>\n",
       "      <td>2</td>\n",
       "    </tr>\n",
       "    <tr>\n",
       "      <th>1</th>\n",
       "      <td>5.0</td>\n",
       "      <td>2.3</td>\n",
       "      <td>3.3</td>\n",
       "      <td>1.0</td>\n",
       "      <td>1</td>\n",
       "    </tr>\n",
       "    <tr>\n",
       "      <th>2</th>\n",
       "      <td>4.9</td>\n",
       "      <td>2.5</td>\n",
       "      <td>4.5</td>\n",
       "      <td>1.7</td>\n",
       "      <td>2</td>\n",
       "    </tr>\n",
       "    <tr>\n",
       "      <th>3</th>\n",
       "      <td>4.9</td>\n",
       "      <td>3.1</td>\n",
       "      <td>1.5</td>\n",
       "      <td>0.1</td>\n",
       "      <td>0</td>\n",
       "    </tr>\n",
       "    <tr>\n",
       "      <th>4</th>\n",
       "      <td>5.7</td>\n",
       "      <td>3.8</td>\n",
       "      <td>1.7</td>\n",
       "      <td>0.3</td>\n",
       "      <td>0</td>\n",
       "    </tr>\n",
       "  </tbody>\n",
       "</table>\n",
       "</div>"
      ],
      "text/plain": [
       "   SepalLength  SepalWidth  PetalLength  PetalWidth  Species\n",
       "0          6.4         2.8          5.6         2.2        2\n",
       "1          5.0         2.3          3.3         1.0        1\n",
       "2          4.9         2.5          4.5         1.7        2\n",
       "3          4.9         3.1          1.5         0.1        0\n",
       "4          5.7         3.8          1.7         0.3        0"
      ]
     },
     "execution_count": 16,
     "metadata": {},
     "output_type": "execute_result"
    }
   ],
   "source": [
    "train.head()"
   ]
  },
  {
   "cell_type": "code",
   "execution_count": 17,
   "id": "f64259b8",
   "metadata": {},
   "outputs": [],
   "source": [
    "train_y = train.pop('Species')\n",
    "test_y = test.pop('Species')"
   ]
  },
  {
   "cell_type": "code",
   "execution_count": 19,
   "id": "c738dfca",
   "metadata": {},
   "outputs": [
    {
     "data": {
      "text/plain": [
       "(120,)"
      ]
     },
     "execution_count": 19,
     "metadata": {},
     "output_type": "execute_result"
    }
   ],
   "source": [
    "train_y.head()\n",
    "train_y.shape"
   ]
  },
  {
   "cell_type": "code",
   "execution_count": 20,
   "id": "7cf93379",
   "metadata": {},
   "outputs": [
    {
     "name": "stdout",
     "output_type": "stream",
     "text": [
      "[NumericColumn(key='SepalLength', shape=(1,), default_value=None, dtype=tf.float32, normalizer_fn=None), NumericColumn(key='SepalWidth', shape=(1,), default_value=None, dtype=tf.float32, normalizer_fn=None), NumericColumn(key='PetalLength', shape=(1,), default_value=None, dtype=tf.float32, normalizer_fn=None), NumericColumn(key='PetalWidth', shape=(1,), default_value=None, dtype=tf.float32, normalizer_fn=None)]\n"
     ]
    }
   ],
   "source": [
    "def input_fn(features, labels, training=True, batch_size=256):\n",
    "    # Convert the inputs to a Dataset.\n",
    "    dataset = tf.data.Dataset.from_tensor_slices((dict(features), labels))\n",
    "\n",
    "    # Shuffle and repeat if you are in training mode.\n",
    "    if training:\n",
    "        dataset = dataset.shuffle(1000).repeat()\n",
    "\n",
    "    return dataset.batch(batch_size)\n",
    "\n",
    "my_feature_columns = []\n",
    "for key in train.keys():\n",
    "    my_feature_columns.append(tf.feature_column.numeric_column(key=key))\n",
    "\n",
    "print(my_feature_columns)"
   ]
  },
  {
   "cell_type": "code",
   "execution_count": 21,
   "id": "d27cd5eb",
   "metadata": {},
   "outputs": [
    {
     "name": "stdout",
     "output_type": "stream",
     "text": [
      "INFO:tensorflow:Using default config.\n",
      "WARNING:tensorflow:Using temporary folder as model directory: C:\\Users\\LocPP\\AppData\\Local\\Temp\\tmpmgg5cim5\n",
      "INFO:tensorflow:Using config: {'_model_dir': 'C:\\\\Users\\\\LocPP\\\\AppData\\\\Local\\\\Temp\\\\tmpmgg5cim5', '_tf_random_seed': None, '_save_summary_steps': 100, '_save_checkpoints_steps': None, '_save_checkpoints_secs': 600, '_session_config': allow_soft_placement: true\n",
      "graph_options {\n",
      "  rewrite_options {\n",
      "    meta_optimizer_iterations: ONE\n",
      "  }\n",
      "}\n",
      ", '_keep_checkpoint_max': 5, '_keep_checkpoint_every_n_hours': 10000, '_log_step_count_steps': 100, '_train_distribute': None, '_device_fn': None, '_protocol': None, '_eval_distribute': None, '_experimental_distribute': None, '_experimental_max_worker_delay_secs': None, '_session_creation_timeout_secs': 7200, '_checkpoint_save_graph_def': True, '_service': None, '_cluster_spec': ClusterSpec({}), '_task_type': 'worker', '_task_id': 0, '_global_id_in_cluster': 0, '_master': '', '_evaluation_master': '', '_is_chief': True, '_num_ps_replicas': 0, '_num_worker_replicas': 1}\n",
      "WARNING:tensorflow:From c:\\IseulCeylon19\\dev\\LearnTensorflow\\.venv\\lib\\site-packages\\tensorflow\\python\\training\\training_util.py:396: Variable.initialized_value (from tensorflow.python.ops.variables) is deprecated and will be removed in a future version.\n",
      "Instructions for updating:\n",
      "Use Variable.read_value. Variables in 2.X are initialized automatically both in eager and graph (inside tf.defun) contexts.\n",
      "INFO:tensorflow:Calling model_fn.\n",
      "WARNING:tensorflow:From c:\\IseulCeylon19\\dev\\LearnTensorflow\\.venv\\lib\\site-packages\\keras\\optimizers\\optimizer_v2\\adagrad.py:90: calling Constant.__init__ (from tensorflow.python.ops.init_ops) with dtype is deprecated and will be removed in a future version.\n",
      "Instructions for updating:\n",
      "Call initializer instance with the dtype argument instead of passing it to the constructor\n",
      "INFO:tensorflow:Done calling model_fn.\n",
      "INFO:tensorflow:Create CheckpointSaverHook.\n",
      "INFO:tensorflow:Graph was finalized.\n",
      "INFO:tensorflow:Running local_init_op.\n",
      "INFO:tensorflow:Done running local_init_op.\n",
      "INFO:tensorflow:Calling checkpoint listeners before saving checkpoint 0...\n",
      "INFO:tensorflow:Saving checkpoints for 0 into C:\\Users\\LocPP\\AppData\\Local\\Temp\\tmpmgg5cim5\\model.ckpt.\n",
      "INFO:tensorflow:Calling checkpoint listeners after saving checkpoint 0...\n",
      "INFO:tensorflow:loss = 1.3532947, step = 0\n",
      "INFO:tensorflow:global_step/sec: 400.205\n",
      "INFO:tensorflow:loss = 0.847441, step = 100 (0.251 sec)\n",
      "INFO:tensorflow:global_step/sec: 529.168\n",
      "INFO:tensorflow:loss = 0.7741882, step = 200 (0.190 sec)\n",
      "INFO:tensorflow:global_step/sec: 526.011\n",
      "INFO:tensorflow:loss = 0.72277737, step = 300 (0.189 sec)\n",
      "INFO:tensorflow:global_step/sec: 528.34\n",
      "INFO:tensorflow:loss = 0.6880518, step = 400 (0.189 sec)\n",
      "INFO:tensorflow:global_step/sec: 534.688\n",
      "INFO:tensorflow:loss = 0.6555541, step = 500 (0.188 sec)\n",
      "INFO:tensorflow:global_step/sec: 541.275\n",
      "INFO:tensorflow:loss = 0.62727416, step = 600 (0.185 sec)\n",
      "INFO:tensorflow:global_step/sec: 540.637\n",
      "INFO:tensorflow:loss = 0.5978316, step = 700 (0.184 sec)\n",
      "INFO:tensorflow:global_step/sec: 515.57\n",
      "INFO:tensorflow:loss = 0.5761646, step = 800 (0.195 sec)\n",
      "INFO:tensorflow:global_step/sec: 521.464\n",
      "INFO:tensorflow:loss = 0.5350725, step = 900 (0.191 sec)\n",
      "INFO:tensorflow:global_step/sec: 508.896\n",
      "INFO:tensorflow:loss = 0.5101932, step = 1000 (0.198 sec)\n",
      "INFO:tensorflow:global_step/sec: 529.375\n",
      "INFO:tensorflow:loss = 0.4993298, step = 1100 (0.188 sec)\n",
      "INFO:tensorflow:global_step/sec: 551.466\n",
      "INFO:tensorflow:loss = 0.4818463, step = 1200 (0.182 sec)\n",
      "INFO:tensorflow:global_step/sec: 543.978\n",
      "INFO:tensorflow:loss = 0.46137375, step = 1300 (0.183 sec)\n",
      "INFO:tensorflow:global_step/sec: 499.967\n",
      "INFO:tensorflow:loss = 0.46452373, step = 1400 (0.201 sec)\n",
      "INFO:tensorflow:global_step/sec: 549.719\n",
      "INFO:tensorflow:loss = 0.45248693, step = 1500 (0.181 sec)\n",
      "INFO:tensorflow:global_step/sec: 516.317\n",
      "INFO:tensorflow:loss = 0.43555006, step = 1600 (0.194 sec)\n",
      "INFO:tensorflow:global_step/sec: 540.902\n",
      "INFO:tensorflow:loss = 0.43292055, step = 1700 (0.187 sec)\n",
      "INFO:tensorflow:global_step/sec: 526.658\n",
      "INFO:tensorflow:loss = 0.42617512, step = 1800 (0.188 sec)\n",
      "INFO:tensorflow:global_step/sec: 501.295\n",
      "INFO:tensorflow:loss = 0.42193228, step = 1900 (0.200 sec)\n",
      "INFO:tensorflow:global_step/sec: 547.151\n",
      "INFO:tensorflow:loss = 0.4020514, step = 2000 (0.183 sec)\n",
      "INFO:tensorflow:global_step/sec: 543.253\n",
      "INFO:tensorflow:loss = 0.40632415, step = 2100 (0.183 sec)\n",
      "INFO:tensorflow:global_step/sec: 543.937\n",
      "INFO:tensorflow:loss = 0.3908019, step = 2200 (0.184 sec)\n",
      "INFO:tensorflow:global_step/sec: 534.441\n",
      "INFO:tensorflow:loss = 0.38681406, step = 2300 (0.188 sec)\n",
      "INFO:tensorflow:global_step/sec: 535.063\n",
      "INFO:tensorflow:loss = 0.38515067, step = 2400 (0.187 sec)\n",
      "INFO:tensorflow:global_step/sec: 542.135\n",
      "INFO:tensorflow:loss = 0.37902266, step = 2500 (0.185 sec)\n",
      "INFO:tensorflow:global_step/sec: 541.179\n",
      "INFO:tensorflow:loss = 0.37443027, step = 2600 (0.184 sec)\n",
      "INFO:tensorflow:global_step/sec: 536.762\n",
      "INFO:tensorflow:loss = 0.36780912, step = 2700 (0.187 sec)\n",
      "INFO:tensorflow:global_step/sec: 542.312\n",
      "INFO:tensorflow:loss = 0.3680361, step = 2800 (0.184 sec)\n",
      "INFO:tensorflow:global_step/sec: 547.025\n",
      "INFO:tensorflow:loss = 0.36312383, step = 2900 (0.183 sec)\n",
      "INFO:tensorflow:global_step/sec: 536.6\n",
      "INFO:tensorflow:loss = 0.35188282, step = 3000 (0.185 sec)\n",
      "INFO:tensorflow:global_step/sec: 542.169\n",
      "INFO:tensorflow:loss = 0.3374353, step = 3100 (0.186 sec)\n",
      "INFO:tensorflow:global_step/sec: 544.701\n",
      "INFO:tensorflow:loss = 0.35230976, step = 3200 (0.183 sec)\n",
      "INFO:tensorflow:global_step/sec: 536.078\n",
      "INFO:tensorflow:loss = 0.34547168, step = 3300 (0.187 sec)\n",
      "INFO:tensorflow:global_step/sec: 539.825\n",
      "INFO:tensorflow:loss = 0.3440518, step = 3400 (0.184 sec)\n",
      "INFO:tensorflow:global_step/sec: 539.146\n",
      "INFO:tensorflow:loss = 0.33290672, step = 3500 (0.185 sec)\n",
      "INFO:tensorflow:global_step/sec: 545.304\n",
      "INFO:tensorflow:loss = 0.3405346, step = 3600 (0.184 sec)\n",
      "INFO:tensorflow:global_step/sec: 531.019\n",
      "INFO:tensorflow:loss = 0.34066474, step = 3700 (0.188 sec)\n",
      "INFO:tensorflow:global_step/sec: 540.352\n",
      "INFO:tensorflow:loss = 0.32394892, step = 3800 (0.185 sec)\n",
      "INFO:tensorflow:global_step/sec: 538.902\n",
      "INFO:tensorflow:loss = 0.32469326, step = 3900 (0.186 sec)\n",
      "INFO:tensorflow:global_step/sec: 535.274\n",
      "INFO:tensorflow:loss = 0.31197128, step = 4000 (0.186 sec)\n",
      "INFO:tensorflow:global_step/sec: 393.702\n",
      "INFO:tensorflow:loss = 0.30436075, step = 4100 (0.254 sec)\n",
      "INFO:tensorflow:global_step/sec: 568.998\n",
      "INFO:tensorflow:loss = 0.310596, step = 4200 (0.176 sec)\n",
      "INFO:tensorflow:global_step/sec: 538.35\n",
      "INFO:tensorflow:loss = 0.3002417, step = 4300 (0.187 sec)\n",
      "INFO:tensorflow:global_step/sec: 543.233\n",
      "INFO:tensorflow:loss = 0.31457865, step = 4400 (0.183 sec)\n",
      "INFO:tensorflow:global_step/sec: 386.978\n",
      "INFO:tensorflow:loss = 0.3011275, step = 4500 (0.258 sec)\n",
      "INFO:tensorflow:global_step/sec: 571.783\n",
      "INFO:tensorflow:loss = 0.29566526, step = 4600 (0.175 sec)\n",
      "INFO:tensorflow:global_step/sec: 555.577\n",
      "INFO:tensorflow:loss = 0.29768464, step = 4700 (0.180 sec)\n",
      "INFO:tensorflow:global_step/sec: 538.63\n",
      "INFO:tensorflow:loss = 0.28926724, step = 4800 (0.186 sec)\n",
      "INFO:tensorflow:global_step/sec: 538.798\n",
      "INFO:tensorflow:loss = 0.28701392, step = 4900 (0.186 sec)\n",
      "INFO:tensorflow:Calling checkpoint listeners before saving checkpoint 5000...\n",
      "INFO:tensorflow:Saving checkpoints for 5000 into C:\\Users\\LocPP\\AppData\\Local\\Temp\\tmpmgg5cim5\\model.ckpt.\n",
      "INFO:tensorflow:Calling checkpoint listeners after saving checkpoint 5000...\n",
      "INFO:tensorflow:Loss for final step: 0.28609884.\n",
      "INFO:tensorflow:Calling model_fn.\n",
      "INFO:tensorflow:Done calling model_fn.\n",
      "INFO:tensorflow:Starting evaluation at 2025-06-01T14:52:40\n",
      "INFO:tensorflow:Graph was finalized.\n",
      "INFO:tensorflow:Restoring parameters from C:\\Users\\LocPP\\AppData\\Local\\Temp\\tmpmgg5cim5\\model.ckpt-5000\n",
      "INFO:tensorflow:Running local_init_op.\n",
      "INFO:tensorflow:Done running local_init_op.\n",
      "INFO:tensorflow:Inference Time : 0.48252s\n",
      "INFO:tensorflow:Finished evaluation at 2025-06-01-14:52:41\n",
      "INFO:tensorflow:Saving dict for global step 5000: accuracy = 0.96666664, average_loss = 0.33719888, global_step = 5000, loss = 0.33719888\n",
      "INFO:tensorflow:Saving 'checkpoint_path' summary for global step 5000: C:\\Users\\LocPP\\AppData\\Local\\Temp\\tmpmgg5cim5\\model.ckpt-5000\n"
     ]
    }
   ],
   "source": [
    "# Build a DNN with 2 hidden layers with 30 and 10 hidden nodes each.\n",
    "classifier = tf.estimator.DNNClassifier(\n",
    "    feature_columns=my_feature_columns,\n",
    "    # Two hidden layers of 30 and 10 nodes respectively.\n",
    "    hidden_units=[30, 10],\n",
    "    # The model must choose between 3 classes.\n",
    "    n_classes=3)\n",
    "\n",
    "classifier.train(\n",
    "    input_fn=lambda: input_fn(train, train_y, training=True),\n",
    "    steps=5000)\n",
    "\n",
    "eval_result = classifier.evaluate(\n",
    "    input_fn=lambda: input_fn(test, test_y, training=False))\n"
   ]
  },
  {
   "cell_type": "code",
   "execution_count": 22,
   "id": "c6931f7f",
   "metadata": {},
   "outputs": [
    {
     "name": "stdout",
     "output_type": "stream",
     "text": [
      "\n",
      "Test set accuracy: 0.967\n",
      "\n"
     ]
    }
   ],
   "source": [
    "print('\\nTest set accuracy: {accuracy:0.3f}\\n'.format(**eval_result))"
   ]
  },
  {
   "cell_type": "code",
   "execution_count": 25,
   "id": "c3107137",
   "metadata": {},
   "outputs": [
    {
     "name": "stdout",
     "output_type": "stream",
     "text": [
      "Please type numeric values as prompted.\n",
      "INFO:tensorflow:Calling model_fn.\n",
      "INFO:tensorflow:Done calling model_fn.\n",
      "INFO:tensorflow:Graph was finalized.\n",
      "INFO:tensorflow:Restoring parameters from C:\\Users\\LocPP\\AppData\\Local\\Temp\\tmpmgg5cim5\\model.ckpt-5000\n",
      "INFO:tensorflow:Running local_init_op.\n",
      "INFO:tensorflow:Done running local_init_op.\n",
      "Prediction is \"Virginica\" (58.1%)\n"
     ]
    }
   ],
   "source": [
    "def input_fn(features, batch_size=256):\n",
    "    # Convert the inputs to a Dataset without labels.\n",
    "    return tf.data.Dataset.from_tensor_slices(dict(features)).batch(batch_size)\n",
    "\n",
    "features = ['SepalLength', 'SepalWidth', 'PetalLength', 'PetalWidth']\n",
    "predict = {}\n",
    "\n",
    "print(\"Please type numeric values as prompted.\")\n",
    "for feature in features:\n",
    "  valid = True\n",
    "  while valid:\n",
    "    val = input(feature + \": \") # input float value\n",
    "    if not val.isdigit(): valid = False\n",
    "\n",
    "  predict[feature] = [float(val)]\n",
    "\n",
    "predictions = classifier.predict(input_fn=lambda: input_fn(predict))\n",
    "for pred_dict in predictions:\n",
    "    class_id = pred_dict['class_ids'][0]\n",
    "    probability = pred_dict['probabilities'][class_id]\n",
    "\n",
    "    print('Prediction is \"{}\" ({:.1f}%)'.format(\n",
    "        SPECIES[class_id], 100 * probability))"
   ]
  },
  {
   "cell_type": "markdown",
   "id": "b66936fe",
   "metadata": {},
   "source": [
    "# Here is some example input and expected classes you can try above\n",
    "expected = ['Setosa', 'Versicolor', 'Virginica']\n",
    "predict_x = {\n",
    "    'SepalLength': [5.1, 5.9, 6.9],\n",
    "    'SepalWidth': [3.3, 3.0, 3.1],\n",
    "    'PetalLength': [1.7, 4.2, 5.4],\n",
    "    'PetalWidth': [0.5, 1.5, 2.1],\n",
    "}"
   ]
  }
 ],
 "metadata": {
  "kernelspec": {
   "display_name": ".venv",
   "language": "python",
   "name": "python3"
  },
  "language_info": {
   "codemirror_mode": {
    "name": "ipython",
    "version": 3
   },
   "file_extension": ".py",
   "mimetype": "text/x-python",
   "name": "python",
   "nbconvert_exporter": "python",
   "pygments_lexer": "ipython3",
   "version": "3.10.11"
  }
 },
 "nbformat": 4,
 "nbformat_minor": 5
}
